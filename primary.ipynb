{
 "cells": [
  {
   "cell_type": "code",
   "execution_count": null,
   "id": "d8c68982",
   "metadata": {},
   "outputs": [],
   "source": [
    "\"\"\"\n",
    "When a bank receives a loan application, \n",
    "based on the applicant’s profile the bank has to make a decision \n",
    "regarding whether to go ahead with the loan approval or not. \n",
    "Two types of risks are associated with the bank’s decision.\n",
    "\n",
    "If the applicant is a good credit risk, i.e. is likely to repay the loan, \n",
    "then not approving the loan to the person results in a loss of business to the bank.\n",
    "\n",
    "If the applicant is a bad credit risk, i.e. is not likely to repay the loan, \n",
    "then approving the loan to the person results in a financial loss to the bank.\n",
    "\n",
    "The predictors that may potentially have any influence on Creditability:\n",
    "\n",
    "Account Balance: \n",
    "    No account (1), \n",
    "    None (No balance) (2), \n",
    "    Below 200 DM (3),\n",
    "    200 DM or Above (4)\n",
    "\n",
    "Payment Status: \n",
    "    0 : Delayed\n",
    "    1 : Other Credits, \n",
    "    2 : Paid Up,\n",
    "    3 : No Problem with Current Credits,\n",
    "    4 : Previous Credits Paid\n",
    "\n",
    "Savings/Stock Value: \n",
    "    None, \n",
    "    Below 100 DM, \n",
    "    [100, 1000] DM, \n",
    "    Above 1000 DM\n",
    "\n",
    "Employment Length: \n",
    "    Below 1 year (including unemployed), \n",
    "    [1, 4), \n",
    "    [4, 7), \n",
    "    Above 7\n",
    "\n",
    "Sex/Marital Status: \n",
    "    Male Divorced/Single, \n",
    "    Male Married/Widowed, \n",
    "    Female \n",
    "\n",
    "No of Credits at this bank: 1, More than 1\n",
    "\n",
    "Guarantor: None, Yes\n",
    "\n",
    "Concurrent Credits: Other Banks or Dept Stores, None\n",
    "\n",
    "ForeignWorker variable may be dropped from the study\n",
    "\n",
    "Purpose of Credit: New car, Used car, Home Related\n",
    "\n",
    "\"\"\""
   ]
  },
  {
   "cell_type": "code",
   "execution_count": 8,
   "id": "067ce089",
   "metadata": {},
   "outputs": [
    {
     "data": {
      "text/html": [
       "<div>\n",
       "<style scoped>\n",
       "    .dataframe tbody tr th:only-of-type {\n",
       "        vertical-align: middle;\n",
       "    }\n",
       "\n",
       "    .dataframe tbody tr th {\n",
       "        vertical-align: top;\n",
       "    }\n",
       "\n",
       "    .dataframe thead th {\n",
       "        text-align: right;\n",
       "    }\n",
       "</style>\n",
       "<table border=\"1\" class=\"dataframe\">\n",
       "  <thead>\n",
       "    <tr style=\"text-align: right;\">\n",
       "      <th></th>\n",
       "      <th>Creditability</th>\n",
       "      <th>Account_Balance</th>\n",
       "      <th>Duration_of_Credit_monthly</th>\n",
       "      <th>Payment_Status_of_Previous_Credit</th>\n",
       "      <th>Purpose</th>\n",
       "      <th>Credit_Amount</th>\n",
       "      <th>Value_Savings_Stocks</th>\n",
       "      <th>Length_of_current_employment</th>\n",
       "      <th>Instalment_per_cent</th>\n",
       "      <th>Sex_Marital_Status</th>\n",
       "      <th>...</th>\n",
       "      <th>Duration_in_Current_address</th>\n",
       "      <th>Most_valuable_available_asset</th>\n",
       "      <th>Age_years</th>\n",
       "      <th>Concurrent_Credits</th>\n",
       "      <th>Type_of_apartment</th>\n",
       "      <th>No_of_Credits_at_this_Bank</th>\n",
       "      <th>Occupation</th>\n",
       "      <th>No_of_dependents</th>\n",
       "      <th>Telephone</th>\n",
       "      <th>Foreign_Worker</th>\n",
       "    </tr>\n",
       "  </thead>\n",
       "  <tbody>\n",
       "    <tr>\n",
       "      <th>0</th>\n",
       "      <td>1</td>\n",
       "      <td>1</td>\n",
       "      <td>18</td>\n",
       "      <td>4</td>\n",
       "      <td>2</td>\n",
       "      <td>1049</td>\n",
       "      <td>1</td>\n",
       "      <td>2</td>\n",
       "      <td>4</td>\n",
       "      <td>2</td>\n",
       "      <td>...</td>\n",
       "      <td>4</td>\n",
       "      <td>2</td>\n",
       "      <td>21</td>\n",
       "      <td>3</td>\n",
       "      <td>1</td>\n",
       "      <td>1</td>\n",
       "      <td>3</td>\n",
       "      <td>1</td>\n",
       "      <td>1</td>\n",
       "      <td>1</td>\n",
       "    </tr>\n",
       "    <tr>\n",
       "      <th>1</th>\n",
       "      <td>1</td>\n",
       "      <td>1</td>\n",
       "      <td>9</td>\n",
       "      <td>4</td>\n",
       "      <td>0</td>\n",
       "      <td>2799</td>\n",
       "      <td>1</td>\n",
       "      <td>3</td>\n",
       "      <td>2</td>\n",
       "      <td>3</td>\n",
       "      <td>...</td>\n",
       "      <td>2</td>\n",
       "      <td>1</td>\n",
       "      <td>36</td>\n",
       "      <td>3</td>\n",
       "      <td>1</td>\n",
       "      <td>2</td>\n",
       "      <td>3</td>\n",
       "      <td>2</td>\n",
       "      <td>1</td>\n",
       "      <td>1</td>\n",
       "    </tr>\n",
       "    <tr>\n",
       "      <th>2</th>\n",
       "      <td>1</td>\n",
       "      <td>2</td>\n",
       "      <td>12</td>\n",
       "      <td>2</td>\n",
       "      <td>9</td>\n",
       "      <td>841</td>\n",
       "      <td>2</td>\n",
       "      <td>4</td>\n",
       "      <td>2</td>\n",
       "      <td>2</td>\n",
       "      <td>...</td>\n",
       "      <td>4</td>\n",
       "      <td>1</td>\n",
       "      <td>23</td>\n",
       "      <td>3</td>\n",
       "      <td>1</td>\n",
       "      <td>1</td>\n",
       "      <td>2</td>\n",
       "      <td>1</td>\n",
       "      <td>1</td>\n",
       "      <td>1</td>\n",
       "    </tr>\n",
       "    <tr>\n",
       "      <th>3</th>\n",
       "      <td>1</td>\n",
       "      <td>1</td>\n",
       "      <td>12</td>\n",
       "      <td>4</td>\n",
       "      <td>0</td>\n",
       "      <td>2122</td>\n",
       "      <td>1</td>\n",
       "      <td>3</td>\n",
       "      <td>3</td>\n",
       "      <td>3</td>\n",
       "      <td>...</td>\n",
       "      <td>2</td>\n",
       "      <td>1</td>\n",
       "      <td>39</td>\n",
       "      <td>3</td>\n",
       "      <td>1</td>\n",
       "      <td>2</td>\n",
       "      <td>2</td>\n",
       "      <td>2</td>\n",
       "      <td>1</td>\n",
       "      <td>2</td>\n",
       "    </tr>\n",
       "    <tr>\n",
       "      <th>4</th>\n",
       "      <td>1</td>\n",
       "      <td>1</td>\n",
       "      <td>12</td>\n",
       "      <td>4</td>\n",
       "      <td>0</td>\n",
       "      <td>2171</td>\n",
       "      <td>1</td>\n",
       "      <td>3</td>\n",
       "      <td>4</td>\n",
       "      <td>3</td>\n",
       "      <td>...</td>\n",
       "      <td>4</td>\n",
       "      <td>2</td>\n",
       "      <td>38</td>\n",
       "      <td>1</td>\n",
       "      <td>2</td>\n",
       "      <td>2</td>\n",
       "      <td>2</td>\n",
       "      <td>1</td>\n",
       "      <td>1</td>\n",
       "      <td>2</td>\n",
       "    </tr>\n",
       "  </tbody>\n",
       "</table>\n",
       "<p>5 rows × 21 columns</p>\n",
       "</div>"
      ],
      "text/plain": [
       "   Creditability  Account_Balance  Duration_of_Credit_monthly  \\\n",
       "0              1                1                          18   \n",
       "1              1                1                           9   \n",
       "2              1                2                          12   \n",
       "3              1                1                          12   \n",
       "4              1                1                          12   \n",
       "\n",
       "   Payment_Status_of_Previous_Credit  Purpose  Credit_Amount  \\\n",
       "0                                  4        2           1049   \n",
       "1                                  4        0           2799   \n",
       "2                                  2        9            841   \n",
       "3                                  4        0           2122   \n",
       "4                                  4        0           2171   \n",
       "\n",
       "   Value_Savings_Stocks  Length_of_current_employment  Instalment_per_cent  \\\n",
       "0                     1                             2                    4   \n",
       "1                     1                             3                    2   \n",
       "2                     2                             4                    2   \n",
       "3                     1                             3                    3   \n",
       "4                     1                             3                    4   \n",
       "\n",
       "   Sex_Marital_Status  ...  Duration_in_Current_address  \\\n",
       "0                   2  ...                            4   \n",
       "1                   3  ...                            2   \n",
       "2                   2  ...                            4   \n",
       "3                   3  ...                            2   \n",
       "4                   3  ...                            4   \n",
       "\n",
       "   Most_valuable_available_asset  Age_years  Concurrent_Credits  \\\n",
       "0                              2         21                   3   \n",
       "1                              1         36                   3   \n",
       "2                              1         23                   3   \n",
       "3                              1         39                   3   \n",
       "4                              2         38                   1   \n",
       "\n",
       "   Type_of_apartment  No_of_Credits_at_this_Bank  Occupation  \\\n",
       "0                  1                           1           3   \n",
       "1                  1                           2           3   \n",
       "2                  1                           1           2   \n",
       "3                  1                           2           2   \n",
       "4                  2                           2           2   \n",
       "\n",
       "   No_of_dependents  Telephone  Foreign_Worker  \n",
       "0                 1          1               1  \n",
       "1                 2          1               1  \n",
       "2                 1          1               1  \n",
       "3                 2          1               2  \n",
       "4                 1          1               2  \n",
       "\n",
       "[5 rows x 21 columns]"
      ]
     },
     "execution_count": 8,
     "metadata": {},
     "output_type": "execute_result"
    }
   ],
   "source": [
    "#importing pandas and reading the file directly\n",
    "import pandas as pd\n",
    "dataset = pd.read_csv('german.csv', sep = ';')\n",
    "dataset.head()"
   ]
  },
  {
   "cell_type": "code",
   "execution_count": 5,
   "id": "8ea69e98",
   "metadata": {},
   "outputs": [
    {
     "name": "stdout",
     "output_type": "stream",
     "text": [
      "<class 'pandas.core.frame.DataFrame'>\n",
      "RangeIndex: 1000 entries, 0 to 999\n",
      "Data columns (total 21 columns):\n",
      " #   Column                             Non-Null Count  Dtype\n",
      "---  ------                             --------------  -----\n",
      " 0   Creditability                      1000 non-null   int64\n",
      " 1   Account_Balance                    1000 non-null   int64\n",
      " 2   Duration_of_Credit_monthly         1000 non-null   int64\n",
      " 3   Payment_Status_of_Previous_Credit  1000 non-null   int64\n",
      " 4   Purpose                            1000 non-null   int64\n",
      " 5   Credit_Amount                      1000 non-null   int64\n",
      " 6   Value_Savings_Stocks               1000 non-null   int64\n",
      " 7   Length_of_current_employment       1000 non-null   int64\n",
      " 8   Instalment_per_cent                1000 non-null   int64\n",
      " 9   Sex_Marital_Status                 1000 non-null   int64\n",
      " 10  Guarantors                         1000 non-null   int64\n",
      " 11  Duration_in_Current_address        1000 non-null   int64\n",
      " 12  Most_valuable_available_asset      1000 non-null   int64\n",
      " 13  Age_years                          1000 non-null   int64\n",
      " 14  Concurrent_Credits                 1000 non-null   int64\n",
      " 15  Type_of_apartment                  1000 non-null   int64\n",
      " 16  No_of_Credits_at_this_Bank         1000 non-null   int64\n",
      " 17  Occupation                         1000 non-null   int64\n",
      " 18  No_of_dependents                   1000 non-null   int64\n",
      " 19  Telephone                          1000 non-null   int64\n",
      " 20  Foreign_Worker                     1000 non-null   int64\n",
      "dtypes: int64(21)\n",
      "memory usage: 164.2 KB\n"
     ]
    }
   ],
   "source": [
    "dataset.info()"
   ]
  },
  {
   "cell_type": "code",
   "execution_count": 16,
   "id": "a3574164",
   "metadata": {},
   "outputs": [],
   "source": [
    "dataset = dataset.replace(\n",
    "    {'Account_Balance' : {\n",
    "        1 : 'No Account', 2 : 'None',3: 'Below 200 DM',4:'200 DM or Above'}\n",
    "    }\n",
    ")"
   ]
  },
  {
   "cell_type": "code",
   "execution_count": 17,
   "id": "d00bd3f3",
   "metadata": {},
   "outputs": [
    {
     "data": {
      "text/plain": [
       "200 DM or Above    394\n",
       "No Account         274\n",
       "None               269\n",
       "Below 200 DM        63\n",
       "Name: Account_Balance, dtype: int64"
      ]
     },
     "execution_count": 17,
     "metadata": {},
     "output_type": "execute_result"
    }
   ],
   "source": [
    "dataset.Account_Balance.value_counts()"
   ]
  },
  {
   "cell_type": "code",
   "execution_count": 18,
   "id": "0e5724dc",
   "metadata": {},
   "outputs": [],
   "source": [
    "dataset = dataset.replace(\n",
    "    {'Payment_Status_of_Previous_Credit' : {\n",
    "        0:'Delayed',1 : 'Other Credits', 2 : 'Paid Up',\n",
    "        3: 'No Problem with Current Credits',\n",
    "        4:'Previous Credits Paid'}\n",
    "    }\n",
    ")"
   ]
  },
  {
   "cell_type": "code",
   "execution_count": 19,
   "id": "c0954d93",
   "metadata": {},
   "outputs": [
    {
     "data": {
      "text/plain": [
       "Paid Up                            530\n",
       "Previous Credits Paid              293\n",
       "No Problem with Current Credits     88\n",
       "Other Credits                       49\n",
       "Delayed                             40\n",
       "Name: Payment_Status_of_Previous_Credit, dtype: int64"
      ]
     },
     "execution_count": 19,
     "metadata": {},
     "output_type": "execute_result"
    }
   ],
   "source": [
    "dataset.Payment_Status_of_Previous_Credit.value_counts()"
   ]
  },
  {
   "cell_type": "code",
   "execution_count": 20,
   "id": "b002c391",
   "metadata": {},
   "outputs": [],
   "source": [
    "dataset = dataset.replace(\n",
    "    {'Value_Savings_Stocks' : {\n",
    "        1 : 'None', \n",
    "        2 : 'Below 100 DM',\n",
    "        3: '[100, 500)',\n",
    "        4:'[500, 1000)',\n",
    "        5:'Above 1000'}\n",
    "    }\n",
    ")"
   ]
  },
  {
   "cell_type": "code",
   "execution_count": 21,
   "id": "0d3f051c",
   "metadata": {},
   "outputs": [
    {
     "data": {
      "text/plain": [
       "None            603\n",
       "Above 1000      183\n",
       "Below 100 DM    103\n",
       "[100, 500)       63\n",
       "[500, 1000)      48\n",
       "Name: Value_Savings_Stocks, dtype: int64"
      ]
     },
     "execution_count": 21,
     "metadata": {},
     "output_type": "execute_result"
    }
   ],
   "source": [
    "dataset.Value_Savings_Stocks.value_counts()"
   ]
  },
  {
   "cell_type": "code",
   "execution_count": 23,
   "id": "ef16ac61",
   "metadata": {},
   "outputs": [],
   "source": [
    "dataset = dataset.replace(\n",
    "    {'Length_of_current_employment' : {\n",
    "        1 : 'Unemployed', \n",
    "        2 : '<1 Year',\n",
    "        3 : '[1, 4)',\n",
    "        4 :'[4, 7)',\n",
    "        5 :'Above 7'}\n",
    "    }\n",
    ")"
   ]
  },
  {
   "cell_type": "code",
   "execution_count": 24,
   "id": "e24b9239",
   "metadata": {
    "scrolled": true
   },
   "outputs": [
    {
     "data": {
      "text/plain": [
       "[1, 4)        339\n",
       "Above 7       253\n",
       "[4, 7)        174\n",
       "<1 Year       172\n",
       "Unemployed     62\n",
       "Name: Length_of_current_employment, dtype: int64"
      ]
     },
     "execution_count": 24,
     "metadata": {},
     "output_type": "execute_result"
    }
   ],
   "source": [
    "dataset.Length_of_current_employment.value_counts()"
   ]
  },
  {
   "cell_type": "code",
   "execution_count": 25,
   "id": "23a6b6d2",
   "metadata": {},
   "outputs": [],
   "source": [
    "dataset = dataset.replace(\n",
    "    {'Instalment_per_cent' : {\n",
    "        1 : 'Above 35%', \n",
    "        2 : '(25%, 35%)',\n",
    "        3: '[20%, 25%)',\n",
    "        4:'Below 20%'}\n",
    "    }\n",
    ")"
   ]
  },
  {
   "cell_type": "code",
   "execution_count": 27,
   "id": "c13a01cc",
   "metadata": {},
   "outputs": [
    {
     "data": {
      "text/plain": [
       "Below 20%     476\n",
       "(25%, 35%)    231\n",
       "[20%, 25%)    157\n",
       "Above 35%     136\n",
       "Name: Instalment_per_cent, dtype: int64"
      ]
     },
     "execution_count": 27,
     "metadata": {},
     "output_type": "execute_result"
    }
   ],
   "source": [
    "dataset.Instalment_per_cent.value_counts()"
   ]
  },
  {
   "cell_type": "code",
   "execution_count": 28,
   "id": "b394b45e",
   "metadata": {},
   "outputs": [],
   "source": [
    "dataset = dataset.replace(\n",
    "    {'Occupation' : {\n",
    "        1 : 'Unemployed, unskilled', \n",
    "        2 : 'Unskilled Permanent Resident',\n",
    "        3: 'Skilled',\n",
    "        4:'Executive'}\n",
    "    }\n",
    ")"
   ]
  },
  {
   "cell_type": "code",
   "execution_count": 29,
   "id": "41dedf2f",
   "metadata": {},
   "outputs": [
    {
     "data": {
      "text/plain": [
       "Skilled                         630\n",
       "Unskilled Permanent Resident    200\n",
       "Executive                       148\n",
       "Unemployed, unskilled            22\n",
       "Name: Occupation, dtype: int64"
      ]
     },
     "execution_count": 29,
     "metadata": {},
     "output_type": "execute_result"
    }
   ],
   "source": [
    "dataset.Occupation.value_counts()"
   ]
  },
  {
   "cell_type": "code",
   "execution_count": 30,
   "id": "f76c28b3",
   "metadata": {},
   "outputs": [],
   "source": [
    "dataset = dataset.replace(\n",
    "    {'Sex_Marital_Status' : {\n",
    "        1 : 'Male, Divorced', \n",
    "        2 : 'Male, Single',\n",
    "        3: 'Male, Married/Widowed',\n",
    "        4: 'Female'}\n",
    "    }\n",
    ")"
   ]
  },
  {
   "cell_type": "code",
   "execution_count": 31,
   "id": "d5766695",
   "metadata": {},
   "outputs": [
    {
     "data": {
      "text/plain": [
       "Male, Married/Widowed    548\n",
       "Male, Single             310\n",
       "Female                    92\n",
       "Male, Divorced            50\n",
       "Name: Sex_Marital_Status, dtype: int64"
      ]
     },
     "execution_count": 31,
     "metadata": {},
     "output_type": "execute_result"
    }
   ],
   "source": [
    "dataset.Sex_Marital_Status.value_counts()"
   ]
  },
  {
   "cell_type": "code",
   "execution_count": 32,
   "id": "01abe4e1",
   "metadata": {},
   "outputs": [],
   "source": [
    "dataset = dataset.replace(\n",
    "    {'Duration_in_Current_address' : {\n",
    "        1 : '<1 Year', \n",
    "        2 : '[1, 4)',\n",
    "        3: '[4, 7)',\n",
    "        4:'Above 7'}\n",
    "    }\n",
    ")"
   ]
  },
  {
   "cell_type": "code",
   "execution_count": 33,
   "id": "3fc0e9af",
   "metadata": {},
   "outputs": [
    {
     "data": {
      "text/plain": [
       "Above 7    413\n",
       "[1, 4)     308\n",
       "[4, 7)     149\n",
       "<1 Year    130\n",
       "Name: Duration_in_Current_address, dtype: int64"
      ]
     },
     "execution_count": 33,
     "metadata": {},
     "output_type": "execute_result"
    }
   ],
   "source": [
    "dataset.Duration_in_Current_address.value_counts()"
   ]
  },
  {
   "cell_type": "code",
   "execution_count": 34,
   "id": "5cc82ebb",
   "metadata": {},
   "outputs": [],
   "source": [
    "dataset = dataset.replace(\n",
    "    {'Type_of_apartment' : {\n",
    "        1 : 'Free',\n",
    "        2 : 'Rented',\n",
    "        3: 'Owned'}\n",
    "    }\n",
    ")"
   ]
  },
  {
   "cell_type": "code",
   "execution_count": 35,
   "id": "73fbe506",
   "metadata": {},
   "outputs": [
    {
     "data": {
      "text/plain": [
       "Rented    714\n",
       "Free      179\n",
       "Owned     107\n",
       "Name: Type_of_apartment, dtype: int64"
      ]
     },
     "execution_count": 35,
     "metadata": {},
     "output_type": "execute_result"
    }
   ],
   "source": [
    "dataset.Type_of_apartment.value_counts()"
   ]
  },
  {
   "cell_type": "code",
   "execution_count": 36,
   "id": "d6c5ad60",
   "metadata": {},
   "outputs": [
    {
     "data": {
      "text/plain": [
       "Life Insurance    332\n",
       "None              282\n",
       "Car               232\n",
       "Real Estate       154\n",
       "Name: Most_valuable_available_asset, dtype: int64"
      ]
     },
     "execution_count": 36,
     "metadata": {},
     "output_type": "execute_result"
    }
   ],
   "source": [
    "dataset = dataset.replace(\n",
    "    {'Most_valuable_available_asset' : {\n",
    "        1 : 'None',\n",
    "        2 : 'Car',\n",
    "        3: 'Life Insurance',\n",
    "        4:'Real Estate'}\n",
    "    }\n",
    ")\n",
    "dataset.Most_valuable_available_asset.value_counts()"
   ]
  },
  {
   "cell_type": "code",
   "execution_count": 42,
   "id": "d2a033fb",
   "metadata": {},
   "outputs": [],
   "source": [
    "dataset = dataset.replace(\n",
    "    {'No_of_Credits_at_this_Bank' : {\n",
    "        1 : '1',\n",
    "        2 : '2 or 3',\n",
    "        3: '4 or 5',\n",
    "        4:'Above 6'}\n",
    "    }\n",
    ")"
   ]
  },
  {
   "cell_type": "code",
   "execution_count": 43,
   "id": "de8c5b9d",
   "metadata": {},
   "outputs": [
    {
     "data": {
      "text/plain": [
       "1          633\n",
       "2 or 3     333\n",
       "4 or 5      28\n",
       "Above 6      6\n",
       "Name: No_of_Credits_at_this_Bank, dtype: int64"
      ]
     },
     "execution_count": 43,
     "metadata": {},
     "output_type": "execute_result"
    }
   ],
   "source": [
    "dataset.No_of_Credits_at_this_Bank.value_counts()"
   ]
  },
  {
   "cell_type": "code",
   "execution_count": 45,
   "id": "1d9cde20",
   "metadata": {},
   "outputs": [
    {
     "data": {
      "text/plain": [
       "None            907\n",
       "Guarantor        52\n",
       "Co-applicant     41\n",
       "Name: Guarantors, dtype: int64"
      ]
     },
     "execution_count": 45,
     "metadata": {},
     "output_type": "execute_result"
    }
   ],
   "source": [
    "dataset = dataset.replace(\n",
    "    {'Guarantors' : {\n",
    "        1 : 'None',\n",
    "        2 : 'Co-applicant',\n",
    "        3: 'Guarantor'}\n",
    "    }\n",
    ")\n",
    "dataset.Guarantors.value_counts()"
   ]
  },
  {
   "cell_type": "code",
   "execution_count": 47,
   "id": "f4d31ace",
   "metadata": {},
   "outputs": [
    {
     "data": {
      "text/plain": [
       "None           814\n",
       "Other Banks    139\n",
       "Dept. Store     47\n",
       "Name: Concurrent_Credits, dtype: int64"
      ]
     },
     "execution_count": 47,
     "metadata": {},
     "output_type": "execute_result"
    }
   ],
   "source": [
    "dataset = dataset.replace(\n",
    "    {'Concurrent_Credits' : {\n",
    "        1 : 'Other Banks', \n",
    "        2 : 'Dept. Store',\n",
    "        3: 'None'}\n",
    "    }\n",
    ")\n",
    "dataset.Concurrent_Credits.value_counts()"
   ]
  },
  {
   "cell_type": "code",
   "execution_count": 48,
   "id": "e4a2c0c1",
   "metadata": {},
   "outputs": [
    {
     "data": {
      "text/plain": [
       "3 or More      845\n",
       "Less than 3    155\n",
       "Name: No_of_dependents, dtype: int64"
      ]
     },
     "execution_count": 48,
     "metadata": {},
     "output_type": "execute_result"
    }
   ],
   "source": [
    "dataset = dataset.replace(\n",
    "    {'No_of_dependents' : {\n",
    "        1 : '3 or More',\n",
    "        2 : 'Less than 3'}\n",
    "    }\n",
    ")\n",
    "dataset.No_of_dependents.value_counts()"
   ]
  },
  {
   "cell_type": "code",
   "execution_count": 56,
   "id": "260fbb51",
   "metadata": {
    "scrolled": true
   },
   "outputs": [
    {
     "data": {
      "text/plain": [
       "No     596\n",
       "Yes    404\n",
       "Name: Telephone, dtype: int64"
      ]
     },
     "execution_count": 56,
     "metadata": {},
     "output_type": "execute_result"
    }
   ],
   "source": [
    "dataset = dataset.replace(\n",
    "    {'Telephone' : {\n",
    "        1 : 'No',\n",
    "        2 : 'Yes'}\n",
    "    }\n",
    ")\n",
    "dataset.Telephone.value_counts()"
   ]
  },
  {
   "cell_type": "code",
   "execution_count": 59,
   "id": "8d837af7",
   "metadata": {},
   "outputs": [
    {
     "data": {
      "text/plain": [
       "No     963\n",
       "Yes     37\n",
       "Name: Foreign_Worker, dtype: int64"
      ]
     },
     "execution_count": 59,
     "metadata": {},
     "output_type": "execute_result"
    }
   ],
   "source": [
    "dataset = dataset.replace(\n",
    "    {'Foreign_Worker' : {\n",
    "        1 : 'No', \n",
    "        2 : 'Yes'}\n",
    "    }\n",
    ")\n",
    "dataset.Foreign_Worker.value_counts()"
   ]
  },
  {
   "cell_type": "code",
   "execution_count": 58,
   "id": "21cc262c",
   "metadata": {},
   "outputs": [
    {
     "data": {
      "text/plain": [
       "Furniture     280\n",
       "Other         234\n",
       "Used Car      181\n",
       "New Car       103\n",
       "Retraining     97\n",
       "Repair         50\n",
       "Appliances     22\n",
       "Business       12\n",
       "Radio/TV       12\n",
       "Vacation        9\n",
       "Name: Purpose, dtype: int64"
      ]
     },
     "execution_count": 58,
     "metadata": {},
     "output_type": "execute_result"
    }
   ],
   "source": [
    "dataset = dataset.replace(\n",
    "    {'Purpose' : {\n",
    "        0:'Other',\n",
    "        1 : 'New Car', \n",
    "        2 : 'Used Car',\n",
    "        3:'Furniture',\n",
    "        4:'Radio/TV',\n",
    "        5:'Appliances',\n",
    "        6:'Repair',\n",
    "        8:'Vacation',\n",
    "        9:'Retraining',\n",
    "        10:'Business'}\n",
    "    }\n",
    ")\n",
    "dataset.Purpose.value_counts()"
   ]
  },
  {
   "cell_type": "code",
   "execution_count": 60,
   "id": "d27808a9",
   "metadata": {},
   "outputs": [
    {
     "name": "stdout",
     "output_type": "stream",
     "text": [
      "<class 'pandas.core.frame.DataFrame'>\n",
      "RangeIndex: 1000 entries, 0 to 999\n",
      "Data columns (total 21 columns):\n",
      " #   Column                             Non-Null Count  Dtype \n",
      "---  ------                             --------------  ----- \n",
      " 0   Creditability                      1000 non-null   int64 \n",
      " 1   Account_Balance                    1000 non-null   object\n",
      " 2   Duration_of_Credit_monthly         1000 non-null   int64 \n",
      " 3   Payment_Status_of_Previous_Credit  1000 non-null   object\n",
      " 4   Purpose                            1000 non-null   object\n",
      " 5   Credit_Amount                      1000 non-null   int64 \n",
      " 6   Value_Savings_Stocks               1000 non-null   object\n",
      " 7   Length_of_current_employment       1000 non-null   object\n",
      " 8   Instalment_per_cent                1000 non-null   object\n",
      " 9   Sex_Marital_Status                 1000 non-null   object\n",
      " 10  Guarantors                         1000 non-null   object\n",
      " 11  Duration_in_Current_address        1000 non-null   object\n",
      " 12  Most_valuable_available_asset      1000 non-null   object\n",
      " 13  Age_years                          1000 non-null   int64 \n",
      " 14  Concurrent_Credits                 1000 non-null   object\n",
      " 15  Type_of_apartment                  1000 non-null   object\n",
      " 16  No_of_Credits_at_this_Bank         1000 non-null   object\n",
      " 17  Occupation                         1000 non-null   object\n",
      " 18  No_of_dependents                   1000 non-null   object\n",
      " 19  Telephone                          1000 non-null   object\n",
      " 20  Foreign_Worker                     1000 non-null   object\n",
      "dtypes: int64(4), object(17)\n",
      "memory usage: 164.2+ KB\n"
     ]
    }
   ],
   "source": [
    "dataset.info()"
   ]
  },
  {
   "cell_type": "code",
   "execution_count": 61,
   "id": "d4c98cab",
   "metadata": {},
   "outputs": [],
   "source": [
    "# dataset.to_csv('dataset_for_eda.csv')"
   ]
  }
 ],
 "metadata": {
  "kernelspec": {
   "display_name": "Python 3 (ipykernel)",
   "language": "python",
   "name": "python3"
  },
  "language_info": {
   "codemirror_mode": {
    "name": "ipython",
    "version": 3
   },
   "file_extension": ".py",
   "mimetype": "text/x-python",
   "name": "python",
   "nbconvert_exporter": "python",
   "pygments_lexer": "ipython3",
   "version": "3.11.1"
  }
 },
 "nbformat": 4,
 "nbformat_minor": 5
}
